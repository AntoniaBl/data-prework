{
 "cells": [
  {
   "cell_type": "markdown",
   "metadata": {},
   "source": [
    "<img src=\"https://bit.ly/2VnXWr2\" width=\"100\" align=\"left\">"
   ]
  },
  {
   "cell_type": "markdown",
   "metadata": {},
   "source": [
    "# Temperature Sensor\n",
    "\n",
    "There is a temperature sensor in the processor of your company's server. The company wants to analyze the data provided by the sensor to decide if they should change the cooling system for a better one. As changing the cooling system is expensive and you are an excellent data analyst, you can't make a decision without basis.\n",
    "\n",
    "## Tools\n",
    "You don't necessarily need to use all the tools. Maybe you opt to use some of them or completely different ones, they are given to help you shape the exercise. Programming exercises can be solved in many different ways.\n",
    "1. Data structures: **lists**\n",
    "2. Loops: **list comprehension**\n",
    "3. Functions: **min, max, print, len**\n",
    "4. Conditional statements: **if-elif-else**\n",
    "\n",
    "## Tasks\n",
    "The temperatures measured throughout the 24 hours of a day are:"
   ]
  },
  {
   "cell_type": "code",
   "execution_count": 107,
   "metadata": {},
   "outputs": [],
   "source": [
    "temperatures_C = [33, 66, 65, 0, 59, 60, 62, 64, 70, 76, 80, 81, 80, 83, 90, 79, 61, 53, 50, 49, 53, 48, 45, 39]"
   ]
  },
  {
   "cell_type": "markdown",
   "metadata": {},
   "source": [
    "The first element of the list is the temperature at 12am, the second element is the temperature at 1am, and so on. \n",
    "\n",
    "The company has decided that if one of the following events occurs, then the cooling system needs to be replaced for a new one to avoid damaging the processor.\n",
    "* More than 4 temperatures are greater than or equal to 70ºC.\n",
    "* Any temperature is above 80ºC.\n",
    "* The average temperature exceeds 65ºC.\n",
    "\n",
    "Follow the steps so that you can make the decision.\n",
    "\n",
    "#### 1. Find the minimum temperature of the day and store it in a variable."
   ]
  },
  {
   "cell_type": "code",
   "execution_count": 108,
   "metadata": {},
   "outputs": [
    {
     "name": "stdout",
     "output_type": "stream",
     "text": [
      "0\n"
     ]
    }
   ],
   "source": [
    "min_temp = min(temperatures_C)\n",
    "\n",
    "print (min_temp)"
   ]
  },
  {
   "cell_type": "markdown",
   "metadata": {},
   "source": [
    "#### 2. Find the maximum temperature of the day and store it in a variable."
   ]
  },
  {
   "cell_type": "code",
   "execution_count": 109,
   "metadata": {},
   "outputs": [
    {
     "name": "stdout",
     "output_type": "stream",
     "text": [
      "90\n"
     ]
    }
   ],
   "source": [
    "max_temp = max(temperatures_C)\n",
    "\n",
    "print (max_temp)"
   ]
  },
  {
   "cell_type": "markdown",
   "metadata": {},
   "source": [
    "#### 3. Create a list with the temperatures that are greater than or equal to 70ºC. Store it in a variable."
   ]
  },
  {
   "cell_type": "code",
   "execution_count": 110,
   "metadata": {},
   "outputs": [
    {
     "name": "stdout",
     "output_type": "stream",
     "text": [
      "[70, 76, 80, 81, 80, 83, 90, 79]\n"
     ]
    }
   ],
   "source": [
    "temp_over70 = []\n",
    "\n",
    "for temps in temperatures_C:\n",
    "    if temps >= 70:\n",
    "        temp_over70.append (temps)\n",
    "print (temp_over70)\n",
    "    "
   ]
  },
  {
   "cell_type": "markdown",
   "metadata": {},
   "source": [
    "#### 4. Find the average temperature of the day and store it in a variable."
   ]
  },
  {
   "cell_type": "code",
   "execution_count": 111,
   "metadata": {},
   "outputs": [
    {
     "name": "stdout",
     "output_type": "stream",
     "text": [
      "60.25\n"
     ]
    }
   ],
   "source": [
    "avg_temp = sum(temperatures_C)/len(temperatures_C)\n",
    "\n",
    "print (avg_temp)"
   ]
  },
  {
   "cell_type": "markdown",
   "metadata": {},
   "source": [
    "#### 5. Imagine that there was a sensor failure at 3am and the data for that specific hour was not recorded. How would you estimate the missing value? Replace the current value of the list at 3am for an estimation. "
   ]
  },
  {
   "cell_type": "code",
   "execution_count": 112,
   "metadata": {},
   "outputs": [
    {
     "name": "stdout",
     "output_type": "stream",
     "text": [
      "62.67\n",
      "Estimated Value at 3 am is: 62.67\n"
     ]
    }
   ],
   "source": [
    "# One could assume that the value must lay around the average temperature 60,25\n",
    "# But it might be more pecise to only include night values around 3 o,clock until 7 in the morning.\n",
    "# ignoring the value for 12 am; and leaving out 0 value at 3\n",
    "\n",
    "average_around3 = round((sum(temperatures_C[1:3]) + sum(temperatures_C[4:8]))/6,2)\n",
    "\n",
    "print(average_around3)\n",
    "temperatures_C[3]= int(average_around3)\n",
    "\n",
    "print(\"Estimated Value at 3 am is:\", average_around3)\n"
   ]
  },
  {
   "cell_type": "markdown",
   "metadata": {},
   "source": [
    "#### 6. Bonus: the maintenance staff is from the United States and does not understand the international metric system. Help them by converting the temperatures from Celsius to Fahrenheit.\n",
    "To know more about temperature conversion check this [link](https://en.wikipedia.org/wiki/Conversion_of_units_of_temperature).\n",
    "\n",
    "**Formula**: \n",
    "\n",
    "$F = 1.8 * C + 32$"
   ]
  },
  {
   "cell_type": "code",
   "execution_count": 113,
   "metadata": {},
   "outputs": [
    {
     "name": "stdout",
     "output_type": "stream",
     "text": [
      "[91.4, 150.8, 149.0, 143.6, 138.2, 140.0, 143.6, 147.2, 158.0, 168.8, 176.0, 177.8, 176.0, 181.4, 194.0, 174.2, 141.8, 127.4, 122.0, 120.2, 127.4, 118.4, 113.0, 102.2]\n"
     ]
    }
   ],
   "source": [
    "fahrenheit =[]\n",
    "\n",
    "for temps in temperatures_C:\n",
    "    fahrenheit_temps= round((1.8*temps) +32,2)\n",
    "    fahrenheit.append(fahrenheit_temps)\n",
    "    \n",
    "print (fahrenheit)"
   ]
  },
  {
   "cell_type": "markdown",
   "metadata": {},
   "source": [
    "#### 7. Make a decision!\n",
    "Now it's time to make a decision taking into account what you have seen until now. \n",
    "\n",
    "Remember that if one of the following events occurs, then the cooling system needs to be replaced for a new one to avoid damaging the processor.\n",
    "* More than 4 temperatures are greater than or equal to 70ºC.\n",
    "* Any temperature is above 80ºC.\n",
    "* The average temperature exceeds 65ºC.\n",
    "\n",
    "#### To make your decision, check if any of the three conditions above is met. You might need to use some of the variables you created in steps 1 to 6. Print a message to show if the cooling system needs to be changed or not."
   ]
  },
  {
   "cell_type": "code",
   "execution_count": 114,
   "metadata": {},
   "outputs": [
    {
     "name": "stdout",
     "output_type": "stream",
     "text": [
      "Check conditions: C1 True C2 True C3 False\n",
      "Cooling system needs to be changed!\n"
     ]
    }
   ],
   "source": [
    "c1 = any(temps>80 for temps in temperatures_C)\n",
    "c2 = len(temp_over70) >4\n",
    "c3 = avg_temp > 65\n",
    "\n",
    "print (\"Check conditions: C1\",c1, \"C2\",c2, \"C3\",c3)\n",
    "\n",
    "\n",
    "if c1| c2 | c3:\n",
    "    print (\"Cooling system needs to be changed!\")\n",
    "else:\n",
    "    print (\"No change necessary- Cooling system works properly!\")\n"
   ]
  },
  {
   "cell_type": "markdown",
   "metadata": {},
   "source": [
    "## Bonus\n",
    "\n",
    "The company has decided that the decision you made is not valid. They want you to analyze the data again but this time, the conditions that need to be met in order to change the cooling system are different.\n",
    "\n",
    "This time, if one of the following events occurs, then the cooling system needs to be replaced:\n",
    "* The temperature is greater than 70ºC during more than 4 consecutive hours.\n",
    "* Any temperature is above 80ºC.\n",
    "* The average temperature exceeds 65ºC.\n",
    "\n",
    "Follow the steps so that you can make the decision.\n",
    "\n",
    "#### 1. Create a list with the hours where the temperature is greater than 70ºC. Store it in a variable."
   ]
  },
  {
   "cell_type": "code",
   "execution_count": 115,
   "metadata": {},
   "outputs": [
    {
     "name": "stdout",
     "output_type": "stream",
     "text": [
      "Hours with temperatures above 70:  [9, 10, 11, 12, 13, 14, 15]\n"
     ]
    }
   ],
   "source": [
    "   \n",
    "hours_above70 = [temps for temps in range(len(temperatures_C)) if temperatures_C[temps] > 70]\n",
    "print('Hours with temperatures above 70: ', hours_above70)"
   ]
  },
  {
   "cell_type": "markdown",
   "metadata": {},
   "source": [
    "#### 2. Check if the list you created in step 1 has more than 4 consecutive hours. "
   ]
  },
  {
   "cell_type": "code",
   "execution_count": 130,
   "metadata": {},
   "outputs": [
    {
     "name": "stdout",
     "output_type": "stream",
     "text": [
      "Consecutive hours do not exeed 4 hours: False\n",
      "There are 7 consecutive hours with temperature over 70.\n"
     ]
    }
   ],
   "source": [
    "counter=1\n",
    "for hours in range(len(hours_above70) - 1):\n",
    "    if hours_above70[hours]+1 == hours_above70[hours+1]:\n",
    "        counter +=1\n",
    "    else:\n",
    "        counter=1\n",
    "        \n",
    "c2=counter<=4\n",
    "\n",
    "print(\"Consecutive hours do not exeed 4 hours:\", c2)\n",
    "print(\"There are\", counter, \"consecutive hours with temperature over 70.\")\n",
    "        \n",
    "\n",
    "    "
   ]
  },
  {
   "cell_type": "markdown",
   "metadata": {},
   "source": [
    "#### 3. Make the decision!\n",
    "To make your decision, check if any of the three conditions is met. Print a message to show if the cooling system needs to be changed or not."
   ]
  },
  {
   "cell_type": "code",
   "execution_count": 131,
   "metadata": {},
   "outputs": [
    {
     "name": "stdout",
     "output_type": "stream",
     "text": [
      "Check conditions: C1 True C2 True C3 False\n",
      "Cooling system needs to be changed!\n"
     ]
    }
   ],
   "source": [
    "c1 = any(temps>80 for temps in temperatures_C)\n",
    "c2 = counter>4\n",
    "c3 = avg_temp > 65\n",
    "\n",
    "print (\"Check conditions: C1\",c1, \"C2\",c2, \"C3\",c3)\n",
    "\n",
    "\n",
    "if c1| c2 | c3:\n",
    "    print (\"Cooling system needs to be changed!\")\n",
    "else:\n",
    "    print (\"No change necessary- Cooling system works properly!\")"
   ]
  },
  {
   "cell_type": "markdown",
   "metadata": {},
   "source": [
    "#### 4. Find the average value of the temperature lists (ºC and ºF). What is the relation between both average values?"
   ]
  },
  {
   "cell_type": "code",
   "execution_count": 132,
   "metadata": {},
   "outputs": [
    {
     "name": "stdout",
     "output_type": "stream",
     "text": [
      "Average Temperature in F: 145.1\n",
      "Average Temperature in°C: 60.25\n"
     ]
    }
   ],
   "source": [
    "avg_Fahrenheit = sum(fahrenheit)/len(fahrenheit)\n",
    "print(\"Average Temperature in F:\", avg_Fahrenheit)\n",
    "\n",
    "print(\"Average Temperature in°C:\", avg_temp)"
   ]
  },
  {
   "cell_type": "markdown",
   "metadata": {},
   "source": [
    "#### 5. Find the standard deviation of the temperature lists (ºC and ºF). What is the relation between both standard deviations?"
   ]
  },
  {
   "cell_type": "code",
   "execution_count": 133,
   "metadata": {},
   "outputs": [
    {
     "name": "stdout",
     "output_type": "stream",
     "text": [
      "Standard deviation C: 14.63\n",
      "Standard deviation F: 26.34\n"
     ]
    }
   ],
   "source": [
    "import numpy as np\n",
    "stand_dev_C=round(np.std(temperatures_C),2)\n",
    "stand_dev_F=round(np.std(fahrenheit),2)\n",
    "\n",
    "print(\"Standard deviation C:\", stand_dev_C)\n",
    "print(\"Standard deviation F:\", stand_dev_F)\n",
    "\n",
    "# The standard deviation F is the std deviation of C times 1,8. \n",
    "#The conversion factor does not apply for the standard dev values."
   ]
  },
  {
   "cell_type": "code",
   "execution_count": null,
   "metadata": {},
   "outputs": [],
   "source": []
  }
 ],
 "metadata": {
  "kernelspec": {
   "display_name": "Python 3",
   "language": "python",
   "name": "python3"
  },
  "language_info": {
   "codemirror_mode": {
    "name": "ipython",
    "version": 3
   },
   "file_extension": ".py",
   "mimetype": "text/x-python",
   "name": "python",
   "nbconvert_exporter": "python",
   "pygments_lexer": "ipython3",
   "version": "3.8.5"
  }
 },
 "nbformat": 4,
 "nbformat_minor": 2
}
