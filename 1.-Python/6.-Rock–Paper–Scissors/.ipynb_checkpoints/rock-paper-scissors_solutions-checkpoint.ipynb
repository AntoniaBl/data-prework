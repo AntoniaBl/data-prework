{
 "cells": [
  {
   "cell_type": "markdown",
   "metadata": {},
   "source": [
    "<img src=\"https://bit.ly/2VnXWr2\" width=\"100\" align=\"left\">"
   ]
  },
  {
   "cell_type": "markdown",
   "metadata": {},
   "source": [
    "# Rock, Paper & Scissors\n",
    "\n",
    "Let's play the famous game against our computer. You can check the rules [here](https://en.wikipedia.org/wiki/Rock%E2%80%93paper%E2%80%93scissors). \n",
    "\n",
    "## Task\n",
    "Create a program that imitates the playability of the well known game of rock, paper, scissors. Follow the guidelines provided.\n",
    "\n",
    "## Tools\n",
    "1. Loop: **for/while**\n",
    "2. Functions: **input(), print()...**\n",
    "3. Conditional statements: **if, elif, else**\n",
    "4. Definition of functions. Modular programming\n",
    "5. Import modules\n",
    "\n",
    "**To solve this challenge, the use of functions is recommended.**\n",
    "\n",
    "#### 1. Import the choice function of the random module."
   ]
  },
  {
   "cell_type": "code",
   "execution_count": 193,
   "metadata": {},
   "outputs": [],
   "source": [
    "from random import choice "
   ]
  },
  {
   "cell_type": "markdown",
   "metadata": {},
   "source": [
    "#### 2. Create a list that includes the 3 possible gesture options of the game: 'rock', 'paper' or 'scissors'. Store the list in a variable called `gestures`."
   ]
  },
  {
   "cell_type": "code",
   "execution_count": 194,
   "metadata": {},
   "outputs": [],
   "source": [
    "gestures=['rock','paper','scissors']"
   ]
  },
  {
   "cell_type": "markdown",
   "metadata": {},
   "source": [
    "#### 3. Create a variable called `n_rounds` to store the maximum number of rounds to play in a game. \n",
    "Remember that the number of rounds must be odd: 1, 3, 5, ..."
   ]
  },
  {
   "cell_type": "code",
   "execution_count": 195,
   "metadata": {},
   "outputs": [
    {
     "name": "stdout",
     "output_type": "stream",
     "text": [
      "Please choose the number of rounds to be played (odd number):7\n",
      "We'll play 7 rounds\n"
     ]
    }
   ],
   "source": [
    "try:\n",
    "    n_rounds = int(input(\"Please choose the number of rounds to be played (odd number):\"))\n",
    "    if (n_rounds%2) == 0:\n",
    "        print(\"Please provide an odd number.\")\n",
    "    else:\n",
    "        print(\"We'll play\", n_rounds, \"rounds\")\n",
    "except:\n",
    "    print(\"Input most likely not a number.\")"
   ]
  },
  {
   "cell_type": "markdown",
   "metadata": {},
   "source": [
    "4. Create a variable called `rounds_to_win` to store the number of rounds that a player must win to win the game.\n",
    "**Hint**: the value stored in `rounds_to_win` depends on the value of `n_rounds`. "
   ]
  },
  {
   "cell_type": "code",
   "execution_count": 196,
   "metadata": {},
   "outputs": [
    {
     "name": "stdout",
     "output_type": "stream",
     "text": [
      "You need 4 rounds to win.\n"
     ]
    }
   ],
   "source": [
    "rounds_to_win=round(n_rounds/2)\n",
    "print(\"You need\",rounds_to_win,\"rounds to win.\")"
   ]
  },
  {
   "cell_type": "markdown",
   "metadata": {},
   "source": [
    "#### 5. Create two variables to store the number of rounds that the computer and the player have won. Call these variables `cpu_score` and `player_score`."
   ]
  },
  {
   "cell_type": "code",
   "execution_count": 197,
   "metadata": {},
   "outputs": [],
   "source": [
    "cpu_score=0\n",
    "player_Score=0"
   ]
  },
  {
   "cell_type": "markdown",
   "metadata": {},
   "source": [
    "#### 6. Define a function that randomly returns one of the 3 gesture options.\n",
    "You will use this function to simulate the gesture choice of the computer. "
   ]
  },
  {
   "cell_type": "code",
   "execution_count": 198,
   "metadata": {},
   "outputs": [
    {
     "data": {
      "text/plain": [
       "'scissors'"
      ]
     },
     "execution_count": 198,
     "metadata": {},
     "output_type": "execute_result"
    }
   ],
   "source": [
    "def computer(gestures):\n",
    "    global computerchoice\n",
    "    computerchoice = str(choice(gestures))\n",
    "    return computerchoice\n",
    "    \n",
    "computer(gestures)"
   ]
  },
  {
   "cell_type": "markdown",
   "metadata": {},
   "source": [
    "#### 7. Define a function that asks the player which is the gesture he or she wants to show: 'rock', 'paper' or 'scissors'.\n",
    "The player should only be allowed to choose one of the 3 gesture options. If the player's choice is not rock, paper or scissors, keep asking until it is."
   ]
  },
  {
   "cell_type": "code",
   "execution_count": 199,
   "metadata": {},
   "outputs": [
    {
     "name": "stdout",
     "output_type": "stream",
     "text": [
      "Please choose paper, rock or scissors:paper\n"
     ]
    },
    {
     "data": {
      "text/plain": [
       "'paper'"
      ]
     },
     "execution_count": 199,
     "metadata": {},
     "output_type": "execute_result"
    }
   ],
   "source": [
    "def choices(gestures):\n",
    "    global personchoice\n",
    "    personchoice= str(input(\"Please choose paper, rock or scissors:\"))\n",
    "    return (personchoice if personchoice in gestures else choices(gestures))\n",
    "\n",
    "choices(gestures)"
   ]
  },
  {
   "cell_type": "markdown",
   "metadata": {},
   "source": [
    "#### 8. Define a function that checks who won a round. \n",
    "The function should return 0 if there is a tie, 1 if the computer wins and 2 if the player wins."
   ]
  },
  {
   "cell_type": "code",
   "execution_count": 200,
   "metadata": {},
   "outputs": [
    {
     "name": "stdout",
     "output_type": "stream",
     "text": [
      "1\n"
     ]
    }
   ],
   "source": [
    "def round_result(s1,s2,s3):\n",
    "    \n",
    "    return s2 if ((computerchoice in gestures[0]) and (personchoice in gestures[2])\\\n",
    "                 or (computerchoice in gestures[1]) and (personchoice in gestures[0])\\\n",
    "                 or (computerchoice in gestures[2]) and (personchoice in gestures[1]))\\\n",
    "    else s3 if ((personchoice in gestures[0]) and (computerchoice in gestures[2])\\\n",
    "               or (personchoice in gestures[1]) and (computerchoice in gestures[0])\\\n",
    "               or (personchoice in gestures[2]) and (computerchoice in gestures[1]))\\\n",
    "    else s1\n",
    "    \n",
    "print(round_result(0,1,2))\n",
    "    "
   ]
  },
  {
   "cell_type": "markdown",
   "metadata": {},
   "source": [
    "#### 9. Define a function that prints the choice of the computer, the choice of the player and a message that announces who won the current round. \n",
    "You should also use this function to update the variables that count the number of rounds that the computer and the player have won. The score of the winner increases by one point. If there is a tie, the score does not increase."
   ]
  },
  {
   "cell_type": "code",
   "execution_count": 201,
   "metadata": {},
   "outputs": [
    {
     "name": "stdout",
     "output_type": "stream",
     "text": [
      "Computer chose: scissors You chose: paper\n",
      "Win Computer !\n"
     ]
    }
   ],
   "source": [
    "def totalresult():\n",
    "    print(\"Computer chose:\",computerchoice,\"You chose:\", personchoice)\n",
    "    global cpu_score\n",
    "    global player_Score\n",
    "    round_result_count = round_result(\"It's a tie\",\"Win Computer\", \"You win\")\n",
    "    if round_result_count == \"Win Computer\":\n",
    "        cpu_score +=1\n",
    "    elif round_result_count == \"You win\":\n",
    "        player_Score +=1\n",
    "    return print (round_result_count,\"!\")\n",
    "\n",
    "totalresult()\n",
    "    \n"
   ]
  },
  {
   "cell_type": "markdown",
   "metadata": {},
   "source": [
    "#### 10. Now it's time to code the execution of the game using the functions and variables you defined above. \n",
    "\n",
    "First, create a loop structure that repeats while no player reaches the minimum score necessary to win and the number of rounds is less than the maximum number of rounds to play in a game.  \n",
    "\n",
    "Inside the loop, use the functions and variables above to create the execution of a round: ask for the player's choice, generate the random choice of the computer, show the round results, update the scores, etc. "
   ]
  },
  {
   "cell_type": "code",
   "execution_count": 206,
   "metadata": {},
   "outputs": [
    {
     "name": "stdout",
     "output_type": "stream",
     "text": [
      "Please choose the number of rounds to be played (odd number):7\n",
      "We'll play 7 rounds\n",
      "You need 4 rounds to win.\n",
      "Please choose paper, rock or scissors:rock\n",
      "Computer chose: scissors You chose: rock\n",
      "You win !\n",
      "The total current score is: You: 1 Computer: 0\n",
      "Please choose paper, rock or scissors:paper\n",
      "Computer chose: rock You chose: paper\n",
      "You win !\n",
      "The total current score is: You: 2 Computer: 0\n",
      "Please choose paper, rock or scissors:paper\n",
      "Computer chose: paper You chose: paper\n",
      "It's a tie !\n",
      "The total current score is: You: 2 Computer: 0\n",
      "Please choose paper, rock or scissors:rock\n",
      "Computer chose: rock You chose: rock\n",
      "It's a tie !\n",
      "The total current score is: You: 2 Computer: 0\n",
      "Please choose paper, rock or scissors:rock\n",
      "Computer chose: paper You chose: rock\n",
      "Win Computer !\n",
      "The total current score is: You: 2 Computer: 1\n",
      "Please choose paper, rock or scissors:paper\n",
      "Computer chose: paper You chose: paper\n",
      "It's a tie !\n",
      "The total current score is: You: 2 Computer: 1\n",
      "Please choose paper, rock or scissors:r\n",
      "Please choose paper, rock or scissors:rock\n",
      "Computer chose: rock You chose: rock\n",
      "It's a tie !\n",
      "The total current score is: You: 2 Computer: 1\n"
     ]
    }
   ],
   "source": [
    "from random import choice \n",
    "gestures=['rock','paper','scissors']\n",
    "cpu_score=0\n",
    "player_Score=0\n",
    "\n",
    "#Ask for number of rounds to play \n",
    "try:\n",
    "    n_rounds = int(input(\"Please choose the number of rounds to be played (odd number):\"))\n",
    "    if (n_rounds%2) == 0:\n",
    "        print(\"Please provide an odd number.\")\n",
    "    else:\n",
    "        print(\"We'll play\", n_rounds, \"rounds\")\n",
    "except:\n",
    "    print(\"Input most likely not a number.\")\n",
    "    \n",
    "#Calculate no of rounds to win\n",
    "rounds_to_win=round(n_rounds/2)\n",
    "print(\"You need\",rounds_to_win,\"rounds to win.\")\n",
    "\n",
    "#Start game\n",
    "playedrounds=0\n",
    "while cpu_score<rounds_to_win and player_Score<rounds_to_win and playedrounds<n_rounds:\n",
    "    #Computer chooses\n",
    "    def computer(gestures):\n",
    "        global computerchoice\n",
    "        computerchoice = str(choice(gestures))\n",
    "        return computerchoice\n",
    "    computer(gestures)\n",
    "\n",
    "    # Player chooses\n",
    "    def choices(gestures):\n",
    "        global personchoice\n",
    "        personchoice= str(input(\"Please choose paper, rock or scissors:\"))\n",
    "        return (personchoice if personchoice in gestures else choices(gestures))\n",
    "    choices(gestures)\n",
    "    \n",
    "    #Show chosen items and round result\n",
    "    def round_result(s1,s2,s3):\n",
    "        return s2 if ((computerchoice in gestures[0]) and (personchoice in gestures[2])\\\n",
    "                 or (computerchoice in gestures[1]) and (personchoice in gestures[0])\\\n",
    "                 or (computerchoice in gestures[2]) and (personchoice in gestures[1]))\\\n",
    "        else s3 if ((personchoice in gestures[0]) and (computerchoice in gestures[2])\\\n",
    "                    or (personchoice in gestures[1]) and (computerchoice in gestures[0])\\\n",
    "                    or (personchoice in gestures[2]) and (computerchoice in gestures[1]))\\\n",
    "        else s1\n",
    "    round_result(1,2,3)\n",
    "    \n",
    "    def totalresult():\n",
    "        print(\"Computer chose:\",computerchoice,\"You chose:\", personchoice)\n",
    "        global cpu_score\n",
    "        global player_Score\n",
    "        round_result_count = round_result(\"It's a tie\",\"Win Computer\", \"You win\")\n",
    "        if round_result_count == \"Win Computer\":\n",
    "            cpu_score +=1\n",
    "        elif round_result_count == \"You win\":\n",
    "            player_Score +=1\n",
    "        return print (round_result_count,\"!\")\n",
    "    totalresult()\n",
    "    \n",
    "    #show total score\n",
    "    print(\"The total current score is: You:\", player_Score,\"Computer:\", cpu_score)\n",
    "    playedrounds +=1\n",
    "\n",
    "\n",
    "\n",
    "\n",
    "\n",
    "    \n"
   ]
  },
  {
   "cell_type": "markdown",
   "metadata": {},
   "source": [
    "# 11. Print the winner of the game based on who won more rounds.\n",
    "Remember that the game might be tied. "
   ]
  },
  {
   "cell_type": "code",
   "execution_count": 207,
   "metadata": {},
   "outputs": [
    {
     "name": "stdout",
     "output_type": "stream",
     "text": [
      "You won!\n"
     ]
    }
   ],
   "source": [
    "if player_Score>cpu_score:\n",
    "    print(\"You won!\")\n",
    "elif cpu_score<player_score:\n",
    "    print(\"You lost. Computer wins!\")\n",
    "else:\n",
    "    print(\"It's a tie!\")"
   ]
  },
  {
   "cell_type": "markdown",
   "metadata": {},
   "source": [
    "# Bonus: Rock, Paper, Scissors, Lizard & Spock\n",
    "![](images/rpsls.jpg)\n",
    "\n",
    "In this challenge, you need to improve the previous game by adding two new options. To know more about the rules of the improved version of rock, paper, scissors, check this [link](http://www.samkass.com/theories/RPSSL.html). \n",
    "\n",
    "In addition, you will also need to improve how the game interacts with the player: the number of rounds to play, which must be an odd number, will be requested to the user until a valid number is entered. Define a new function to make that request.\n",
    "\n",
    "**Hint**: Try to reuse the code that you already coded in the previous challenge. If your code is efficient, this bonus will only consist of simple modifications to the original game."
   ]
  },
  {
   "cell_type": "code",
   "execution_count": null,
   "metadata": {},
   "outputs": [],
   "source": []
  }
 ],
 "metadata": {
  "kernelspec": {
   "display_name": "Python 3",
   "language": "python",
   "name": "python3"
  },
  "language_info": {
   "codemirror_mode": {
    "name": "ipython",
    "version": 3
   },
   "file_extension": ".py",
   "mimetype": "text/x-python",
   "name": "python",
   "nbconvert_exporter": "python",
   "pygments_lexer": "ipython3",
   "version": "3.8.5"
  }
 },
 "nbformat": 4,
 "nbformat_minor": 2
}
